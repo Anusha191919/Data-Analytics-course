{
 "cells": [
  {
   "cell_type": "code",
   "execution_count": 1,
   "metadata": {},
   "outputs": [],
   "source": [
    "#functions-\n",
    "#predefined- eg:len(),print(),input(),sum(),max(),min(),eval(),etc\n",
    "#userdefined- 4 concepts- \n",
    "#parameterized- input done,but no output\n",
    "#function returning value-gives only output\n",
    "#parameterized value returning- takes input gives output"
   ]
  },
  {
   "cell_type": "code",
   "execution_count": 2,
   "metadata": {},
   "outputs": [
    {
     "ename": "SyntaxError",
     "evalue": "invalid syntax (2994760859.py, line 2)",
     "output_type": "error",
     "traceback": [
      "\u001b[1;36m  Cell \u001b[1;32mIn[2], line 2\u001b[1;36m\u001b[0m\n\u001b[1;33m    def func_name(<parameters>):\u001b[0m\n\u001b[1;37m                  ^\u001b[0m\n\u001b[1;31mSyntaxError\u001b[0m\u001b[1;31m:\u001b[0m invalid syntax\n"
     ]
    }
   ],
   "source": [
    "#syntax\n",
    "def func_name(<parameters>):\n",
    "    statement 1\n",
    "    statement 2\n",
    "    statement n\n",
    "    <return value>\n",
    "\n"
   ]
  },
  {
   "cell_type": "code",
   "execution_count": 6,
   "metadata": {},
   "outputs": [],
   "source": [
    "def greetings():      #defined function but not called\n",
    "    print('&&&&&&❤️')\n",
    "    print('Good Morning')\n",
    "    print('&&&&&&❤️')"
   ]
  },
  {
   "cell_type": "code",
   "execution_count": 7,
   "metadata": {},
   "outputs": [
    {
     "name": "stdout",
     "output_type": "stream",
     "text": [
      "&&&&&&❤️\n",
      "Good Morning\n",
      "&&&&&&❤️\n"
     ]
    }
   ],
   "source": [
    "#calling function\n",
    "#windows+dot(.) for emoji\n",
    "greetings()"
   ]
  },
  {
   "cell_type": "code",
   "execution_count": 8,
   "metadata": {},
   "outputs": [],
   "source": [
    "#BEKAAR FUNCTION\n",
    "def area_cube():\n",
    "    side= int(input(\"Side of cube\"))  #dont take input inside a function\n",
    "    area= side**3\n",
    "    print(f'area of cube is {area}')  #dont display result inside function"
   ]
  },
  {
   "cell_type": "code",
   "execution_count": 10,
   "metadata": {},
   "outputs": [
    {
     "name": "stdout",
     "output_type": "stream",
     "text": [
      "area of cube is 216\n"
     ]
    }
   ],
   "source": [
    "area_cube()\n",
    "#add 10 in area\n"
   ]
  },
  {
   "cell_type": "code",
   "execution_count": 13,
   "metadata": {},
   "outputs": [],
   "source": [
    "#BETTER FUNCTION\n",
    "def area_cube(side):   #side ki value bahar se leni pdegi\n",
    "    area=side**3\n",
    "    print(f'area is {area}')"
   ]
  },
  {
   "cell_type": "code",
   "execution_count": 17,
   "metadata": {},
   "outputs": [
    {
     "name": "stdout",
     "output_type": "stream",
     "text": [
      "area is 1000\n",
      "area is 216\n",
      "area is 125\n",
      "area is 27\n"
     ]
    }
   ],
   "source": [
    "area_cube(10)\n",
    "area_cube(6)\n",
    "area_cube(5)\n",
    "x= int(input('enter side'))\n",
    "area_cube(x)"
   ]
  },
  {
   "cell_type": "code",
   "execution_count": 18,
   "metadata": {},
   "outputs": [],
   "source": [
    "#PERFECT FUNCTION\n",
    "def area_cube(side):\n",
    "    area=side**3\n",
    "    return area"
   ]
  },
  {
   "cell_type": "code",
   "execution_count": 23,
   "metadata": {},
   "outputs": [
    {
     "name": "stdout",
     "output_type": "stream",
     "text": [
      "37\n",
      "8000\n"
     ]
    }
   ],
   "source": [
    "x=int(input('enter side'))\n",
    "res=area_cube(x)\n",
    "print(res+10)\n",
    "k= area_cube(2)*area_cube(10)\n",
    "print(k)"
   ]
  },
  {
   "cell_type": "code",
   "execution_count": 25,
   "metadata": {},
   "outputs": [],
   "source": [
    "def si(p,r,t):\n",
    "   return (p*r*t)/100\n",
    "    "
   ]
  },
  {
   "cell_type": "code",
   "execution_count": 29,
   "metadata": {},
   "outputs": [
    {
     "name": "stdout",
     "output_type": "stream",
     "text": [
      "200.0\n",
      "300.0\n"
     ]
    }
   ],
   "source": [
    "print(si(1000,10,2))\n",
    "print(si(2000,3,5))"
   ]
  },
  {
   "cell_type": "code",
   "execution_count": 30,
   "metadata": {},
   "outputs": [
    {
     "name": "stdout",
     "output_type": "stream",
     "text": [
      "900.0\n"
     ]
    }
   ],
   "source": [
    "p=int(input('enter p'))\n",
    "r=float(input('enter r'))\n",
    "t=int(input('enter t'))\n",
    "ans= si(p,r,t)\n",
    "print(ans)"
   ]
  },
  {
   "cell_type": "code",
   "execution_count": null,
   "metadata": {},
   "outputs": [],
   "source": []
  }
 ],
 "metadata": {
  "kernelspec": {
   "display_name": "base",
   "language": "python",
   "name": "python3"
  },
  "language_info": {
   "codemirror_mode": {
    "name": "ipython",
    "version": 3
   },
   "file_extension": ".py",
   "mimetype": "text/x-python",
   "name": "python",
   "nbconvert_exporter": "python",
   "pygments_lexer": "ipython3",
   "version": "3.10.8"
  },
  "orig_nbformat": 4,
  "vscode": {
   "interpreter": {
    "hash": "52236d22129a75ab835724e428b1ab135b312e0a611d325bdda6363d517cf0f1"
   }
  }
 },
 "nbformat": 4,
 "nbformat_minor": 2
}
