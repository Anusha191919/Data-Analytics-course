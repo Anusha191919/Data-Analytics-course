{
 "cells": [
  {
   "cell_type": "code",
   "execution_count": 3,
   "metadata": {},
   "outputs": [
    {
     "name": "stdout",
     "output_type": "stream",
     "text": [
      "we have 100kg mango in store\n",
      "total costing about Rs.2000\n"
     ]
    }
   ],
   "source": [
    "x=100\n",
    "y='mango'\n",
    "prc=20\n",
    "print(f\"we have {x}kg {y} in store\")\n",
    "print(f\"total costing about Rs.{x*prc}\")\n"
   ]
  },
  {
   "cell_type": "code",
   "execution_count": 4,
   "metadata": {},
   "outputs": [
    {
     "name": "stdout",
     "output_type": "stream",
     "text": [
      "f-string is used when printing message along with variable\n"
     ]
    }
   ],
   "source": [
    "print('f-string is used when printing message along with variable')"
   ]
  },
  {
   "cell_type": "code",
   "execution_count": 5,
   "metadata": {},
   "outputs": [
    {
     "name": "stdout",
     "output_type": "stream",
     "text": [
      "you can vote\n"
     ]
    }
   ],
   "source": [
    "age=int(input(\"Enter age\"))\n",
    "if age>=18:\n",
    "    print(\"you can vote\")\n",
    "else:\n",
    "    print(f\"wait {18-age} years\")    "
   ]
  },
  {
   "cell_type": "code",
   "execution_count": 8,
   "metadata": {},
   "outputs": [
    {
     "name": "stdout",
     "output_type": "stream",
     "text": [
      "57 is natural no.\n",
      "57 is greater than 50\n"
     ]
    }
   ],
   "source": [
    "x= int(input(\"Enter a no.\"))\n",
    "if x>0:\n",
    "    print(f\"{x} is natural no.\")\n",
    "if x%2==0:\n",
    "    print(f\"{x} is even no.\")\n",
    "if x>50:\n",
    "    print(f\"{x} is greater than 50\")        "
   ]
  },
  {
   "cell_type": "code",
   "execution_count": 14,
   "metadata": {},
   "outputs": [
    {
     "name": "stdout",
     "output_type": "stream",
     "text": [
      "for manager\n",
      "6500.0\n"
     ]
    }
   ],
   "source": [
    "post= input('enter designation:')\n",
    "if post=='manager':\n",
    "    print(\"for manager\")\n",
    "    bs=5000\n",
    "    bns= bs*0.1\n",
    "    hra= bs*0.2\n",
    "    print(bs+bns+hra)\n",
    "if post=='developer':\n",
    "    print(\"for developer\")\n",
    "    bs=4000\n",
    "    bns=bs*0.2\n",
    "    hra=bs*0.2\n",
    "    print(bs+hra+bns)\n",
    "if post=='developer':\n",
    "    print(\"for tester\")\n",
    "    bs=3000\n",
    "    bns= bs*0.3\n",
    "    hra= bs*0.2\n",
    "    print(hra+bs+bns)"
   ]
  },
  {
   "cell_type": "code",
   "execution_count": 12,
   "metadata": {},
   "outputs": [],
   "source": [
    "# is used for comment in python"
   ]
  },
  {
   "cell_type": "code",
   "execution_count": 3,
   "metadata": {},
   "outputs": [
    {
     "name": "stdout",
     "output_type": "stream",
     "text": [
      "Match case just like switch case .It is case sensitive. Cant perform logical operations\n",
      "mango not available\n"
     ]
    }
   ],
   "source": [
    "print(\"Match case just like switch case .It is case sensitive. Cant perform logical operations\")\n",
    "fruit= input(\"Enter a fruit name\")\n",
    "match fruit:\n",
    "    case 'Apple':\n",
    "        print(\"Apple are 100/kg\")\n",
    "    case 'Mango':\n",
    "        print(\"Mango is rs 50/kg\")\n",
    "    case 'Banana':\n",
    "        print(\"Khatam ho gaya\")\n",
    "    case _:                     #default case\n",
    "        print (f\"{fruit} not available\")\n",
    "    \n"
   ]
  },
  {
   "cell_type": "code",
   "execution_count": 7,
   "metadata": {},
   "outputs": [
    {
     "name": "stdout",
     "output_type": "stream",
     "text": [
      "a is greatest\n"
     ]
    }
   ],
   "source": [
    "#program to compare which no. is greater between 3 no.\n",
    "a= 230\n",
    "b= 80\n",
    "c= 43\n",
    "if a>b and a>c:\n",
    "    print(\"a is greatest\")\n",
    "elif b>a and b>c:                 #elseif\n",
    "    print(\"b is greatest\")\n",
    "else:\n",
    "    print(\"c is greatest\")        "
   ]
  },
  {
   "cell_type": "code",
   "execution_count": null,
   "metadata": {},
   "outputs": [],
   "source": []
  }
 ],
 "metadata": {
  "kernelspec": {
   "display_name": "base",
   "language": "python",
   "name": "python3"
  },
  "language_info": {
   "codemirror_mode": {
    "name": "ipython",
    "version": 3
   },
   "file_extension": ".py",
   "mimetype": "text/x-python",
   "name": "python",
   "nbconvert_exporter": "python",
   "pygments_lexer": "ipython3",
   "version": "3.10.8"
  },
  "orig_nbformat": 4,
  "vscode": {
   "interpreter": {
    "hash": "52236d22129a75ab835724e428b1ab135b312e0a611d325bdda6363d517cf0f1"
   }
  }
 },
 "nbformat": 4,
 "nbformat_minor": 2
}
