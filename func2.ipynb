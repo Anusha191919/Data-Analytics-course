{
 "cells": [
  {
   "cell_type": "code",
   "execution_count": 1,
   "metadata": {},
   "outputs": [],
   "source": [
    "#parameters\n",
    "#named parameters\n",
    "#required parameters\n",
    "#default parameters\n",
    "#variable parameter\n",
    "#variable keyword argument parameter"
   ]
  },
  {
   "cell_type": "code",
   "execution_count": 5,
   "metadata": {},
   "outputs": [],
   "source": [
    "def burger(bread,cheese,veg,price):\n",
    "    return (f' Your burger has {bread} bread, {cheese} cheese,is veg {veg} and price is {price}')"
   ]
  },
  {
   "cell_type": "code",
   "execution_count": 6,
   "metadata": {},
   "outputs": [
    {
     "data": {
      "text/plain": [
       "' Your burger has wheat bread, cheddar cheese,is veg True and price is 100'"
      ]
     },
     "execution_count": 6,
     "metadata": {},
     "output_type": "execute_result"
    }
   ],
   "source": [
    "burger('wheat','cheddar',True,100)"
   ]
  },
  {
   "cell_type": "code",
   "execution_count": 8,
   "metadata": {},
   "outputs": [
    {
     "data": {
      "text/plain": [
       "' Your burger has wheat bread, cheddar cheese,is veg True and price is 200'"
      ]
     },
     "execution_count": 8,
     "metadata": {},
     "output_type": "execute_result"
    }
   ],
   "source": [
    "#named parameter- name with value\n",
    "burger(bread='wheat',cheese='cheddar', veg=True, price= 200)"
   ]
  },
  {
   "cell_type": "code",
   "execution_count": 9,
   "metadata": {},
   "outputs": [],
   "source": [
    "def total(x,y,z):\n",
    "    return x+y+z*0.1"
   ]
  },
  {
   "cell_type": "code",
   "execution_count": 11,
   "metadata": {},
   "outputs": [
    {
     "name": "stdout",
     "output_type": "stream",
     "text": [
      "5.4\n",
      "7.2\n"
     ]
    }
   ],
   "source": [
    "ans= total(x=2,y=3,z=4)  #named parameters can be ineterchanged while entering value\n",
    "print(ans)\n",
    "ans= total(y=4,x=3,z=2)  #required parameters are ones whose values are to be given, here are 3(x,y,z)\n",
    "print(ans)"
   ]
  },
  {
   "cell_type": "code",
   "execution_count": 12,
   "metadata": {},
   "outputs": [],
   "source": [
    "#default parameter- parameters whose values if not given then also program runs\n",
    "def total2(x,y,z=10): #default value is always given from right side (x=2,y,z=3) is not correct\n",
    "    return(x+y+z)*0.5     #(y,x=2,z=3) is correct\n"
   ]
  },
  {
   "cell_type": "code",
   "execution_count": 13,
   "metadata": {},
   "outputs": [
    {
     "name": "stdout",
     "output_type": "stream",
     "text": [
      "8.5\n",
      "6.0\n"
     ]
    }
   ],
   "source": [
    "print(total2(3,4))\n",
    "print(total2(3,4,5))"
   ]
  },
  {
   "cell_type": "code",
   "execution_count": 14,
   "metadata": {},
   "outputs": [],
   "source": [
    "def area(l=1,b=1):\n",
    "    return l*b"
   ]
  },
  {
   "cell_type": "code",
   "execution_count": 15,
   "metadata": {},
   "outputs": [
    {
     "name": "stdout",
     "output_type": "stream",
     "text": [
      "1\n",
      "10\n",
      "200\n"
     ]
    }
   ],
   "source": [
    "print(area())\n",
    "print(area(10))\n",
    "print(area(10,20))"
   ]
  },
  {
   "cell_type": "code",
   "execution_count": 21,
   "metadata": {},
   "outputs": [],
   "source": [
    "def greeting(name='Guest'):\n",
    "    print('🤞🤞')\n",
    "    print(f'Welcome {name}')\n",
    "    print('🤞🤞')"
   ]
  },
  {
   "cell_type": "code",
   "execution_count": 23,
   "metadata": {},
   "outputs": [
    {
     "name": "stdout",
     "output_type": "stream",
     "text": [
      "🤞🤞\n",
      "Welcome Guest\n",
      "🤞🤞\n"
     ]
    }
   ],
   "source": [
    "(greeting())"
   ]
  },
  {
   "cell_type": "code",
   "execution_count": 24,
   "metadata": {},
   "outputs": [
    {
     "name": "stdout",
     "output_type": "stream",
     "text": [
      "🤞🤞\n",
      "Welcome Alex\n",
      "🤞🤞\n"
     ]
    }
   ],
   "source": [
    "(greeting('Alex'))"
   ]
  },
  {
   "attachments": {},
   "cell_type": "markdown",
   "metadata": {},
   "source": [
    "variable argument functions- jitna function k andar data pass ho raha sab khud handle ho jaaye"
   ]
  },
  {
   "cell_type": "code",
   "execution_count": 27,
   "metadata": {},
   "outputs": [
    {
     "name": "stdout",
     "output_type": "stream",
     "text": [
      "2 3 5 6 689 865 7890 679\n"
     ]
    }
   ],
   "source": [
    "print(2,3,5,6,689,865,7890,679,)"
   ]
  },
  {
   "cell_type": "code",
   "execution_count": 30,
   "metadata": {},
   "outputs": [],
   "source": [
    "def avg(*numbers): # is representing variable argument funtion i.e. saari values numbers me jayengi\n",
    "  if len (numbers) >1 :\n",
    "    return sum(numbers)/ len(numbers)"
   ]
  },
  {
   "cell_type": "code",
   "execution_count": 29,
   "metadata": {},
   "outputs": [
    {
     "name": "stdout",
     "output_type": "stream",
     "text": [
      "5.5\n"
     ]
    }
   ],
   "source": [
    "print(avg(1,2,3,4,5,6,7,8,9,10)) #ek hi variable me dher saari value hai"
   ]
  },
  {
   "cell_type": "code",
   "execution_count": 31,
   "metadata": {},
   "outputs": [
    {
     "name": "stdout",
     "output_type": "stream",
     "text": [
      "None\n"
     ]
    }
   ],
   "source": [
    "print(avg())"
   ]
  },
  {
   "cell_type": "code",
   "execution_count": 34,
   "metadata": {},
   "outputs": [],
   "source": [
    "#variable keyword argument function - used in library , dictionary, etc\n",
    "#double asterisk(**) is used, it means unlimited values should have different names\n",
    "def menu(**products):\n",
    "    for k,v in products.items():\n",
    "        print(f' ✅ {k:15}    Rs. {v:4}')"
   ]
  },
  {
   "cell_type": "code",
   "execution_count": 35,
   "metadata": {},
   "outputs": [
    {
     "name": "stdout",
     "output_type": "stream",
     "text": [
      " ✅ chat               Rs.  100\n",
      " ✅ idli               Rs.   60\n",
      " ✅ dosa               Rs.   80\n",
      " ✅ samosa             Rs.   50\n",
      " ✅ panipuri           Rs.   30\n",
      " ✅ naan               Rs.   40\n",
      " ✅ rice               Rs.   80\n",
      " ✅ kulcha             Rs.   50\n"
     ]
    }
   ],
   "source": [
    "#moti mahal\n",
    "menu(chat=100, idli=60, dosa=80, samosa=50, panipuri=30, naan=40, rice=80, kulcha=50)"
   ]
  },
  {
   "cell_type": "code",
   "execution_count": null,
   "metadata": {},
   "outputs": [],
   "source": []
  }
 ],
 "metadata": {
  "kernelspec": {
   "display_name": "base",
   "language": "python",
   "name": "python3"
  },
  "language_info": {
   "codemirror_mode": {
    "name": "ipython",
    "version": 3
   },
   "file_extension": ".py",
   "mimetype": "text/x-python",
   "name": "python",
   "nbconvert_exporter": "python",
   "pygments_lexer": "ipython3",
   "version": "3.10.8"
  },
  "orig_nbformat": 4,
  "vscode": {
   "interpreter": {
    "hash": "52236d22129a75ab835724e428b1ab135b312e0a611d325bdda6363d517cf0f1"
   }
  }
 },
 "nbformat": 4,
 "nbformat_minor": 2
}
