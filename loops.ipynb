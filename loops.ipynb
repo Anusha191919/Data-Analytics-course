{
 "cells": [
  {
   "cell_type": "code",
   "execution_count": 1,
   "metadata": {},
   "outputs": [],
   "source": [
    "#LOOPS- (1)STEP BASED- FOR KNOWN NO. OF REPITITIONS (FOR LOOP)\n",
    "# (2)-CONDITION BASED- FOR UNKNOWN REPITITIONS(WHILE LOOP)\n",
    "# FOR CONTROLLING LOOP- USE(1) BREAK{TO STOP} (2) CONTINUE{TO SKIP STEP}\n",
    "#ITERABLES- IN WHICH ONE ITEM CAN BE USED AT A TIME eg:string, list, tuple, set, dictionary, range(), zip(), enumerate()"
   ]
  },
  {
   "cell_type": "code",
   "execution_count": 3,
   "metadata": {},
   "outputs": [
    {
     "name": "stdout",
     "output_type": "stream",
     "text": [
      "125623567821"
     ]
    }
   ],
   "source": [
    "x=[12,56,23,56,78,21]         #list\n",
    "for item in x:\n",
    "    print(item,end='')"
   ]
  },
  {
   "cell_type": "code",
   "execution_count": 4,
   "metadata": {},
   "outputs": [
    {
     "name": "stdout",
     "output_type": "stream",
     "text": [
      "total apps=15\n"
     ]
    }
   ],
   "source": [
    "apps= ['act fibernet','airtel','amazon','alexa','blinkit','calculator','calendar','call',\n",
    "'flipkart','myntra','chrome','camera','clock','instagram','whatsapp']\n",
    "print(f'total apps={len(apps)}') # len- for the length of apps"
   ]
  },
  {
   "cell_type": "code",
   "execution_count": 7,
   "metadata": {},
   "outputs": [
    {
     "name": "stdout",
     "output_type": "stream",
     "text": [
      "act fibernet\n",
      "airtel\n",
      "amazon\n",
      "alexa\n",
      "blinkit\n",
      "calculator\n",
      "calendar\n",
      "call\n",
      "flipkart\n",
      "myntra\n",
      "chrome\n",
      "camera\n",
      "clock\n",
      "instagram\n",
      "whatsapp\n"
     ]
    }
   ],
   "source": [
    "for app in apps:\n",
    "    print(app)    #end is used to display in straight line and if not used, data displayed vertically"
   ]
  },
  {
   "cell_type": "code",
   "execution_count": 10,
   "metadata": {},
   "outputs": [
    {
     "name": "stdout",
     "output_type": "stream",
     "text": [
      "act fibernet    12\n",
      "airtel          6\n",
      "amazon          6\n",
      "alexa           5\n",
      "blinkit         7\n",
      "calculator      10\n",
      "calendar        8\n",
      "call            4\n",
      "flipkart        8\n",
      "myntra          6\n",
      "chrome          6\n",
      "camera          6\n",
      "clock           5\n",
      "instagram       9\n",
      "whatsapp        8\n"
     ]
    }
   ],
   "source": [
    "for app in apps:\n",
    "    print(f'{app:15} {len(app)}')  #:no. is for no. of spacing"
   ]
  },
  {
   "cell_type": "code",
   "execution_count": 11,
   "metadata": {},
   "outputs": [
    {
     "name": "stdout",
     "output_type": "stream",
     "text": [
      "act fibernet\n",
      "amazon\n",
      "blinkit\n",
      "calendar\n",
      "myntra\n",
      "instagram\n"
     ]
    }
   ],
   "source": [
    "for app in apps:\n",
    "    if 'n' in app:\n",
    "        print(app)"
   ]
  },
  {
   "cell_type": "code",
   "execution_count": 14,
   "metadata": {},
   "outputs": [
    {
     "name": "stdout",
     "output_type": "stream",
     "text": [
      "act fibernet\n",
      "airtel\n",
      "amazon\n",
      "alexa\n"
     ]
    }
   ],
   "source": [
    "for app in apps:\n",
    "    if app.startswith('a'):   #variable.startswith() to check first letter\n",
    "        print(app)"
   ]
  },
  {
   "cell_type": "code",
   "execution_count": 16,
   "metadata": {},
   "outputs": [
    {
     "name": "stdout",
     "output_type": "stream",
     "text": [
      "12\n",
      "56\n",
      "67\n",
      "32\n",
      "6\n",
      "68\n"
     ]
    }
   ],
   "source": [
    "data=[12,56,0,67,0,32,6,0,68,0,0,0]    #for not printing 0\n",
    "for i in data:\n",
    "    if i == 0:\n",
    "        continue\n",
    "    print(i)"
   ]
  },
  {
   "cell_type": "code",
   "execution_count": 17,
   "metadata": {},
   "outputs": [
    {
     "name": "stdout",
     "output_type": "stream",
     "text": [
      "32\n",
      "45\n",
      "12\n",
      "5\n",
      "6\n"
     ]
    }
   ],
   "source": [
    "data=[32,45,12,5,6,0,0,0,2,65,7,677] #for printing only till before 0\n",
    "for i in data:\n",
    "    if i==0:\n",
    "        break\n",
    "    print(i)"
   ]
  },
  {
   "cell_type": "code",
   "execution_count": 18,
   "metadata": {},
   "outputs": [
    {
     "name": "stdout",
     "output_type": "stream",
     "text": [
      "(0, 'act fibernet')\n",
      "(1, 'airtel')\n",
      "(2, 'amazon')\n",
      "(3, 'alexa')\n",
      "(4, 'blinkit')\n",
      "(5, 'calculator')\n",
      "(6, 'calendar')\n",
      "(7, 'call')\n",
      "(8, 'flipkart')\n",
      "(9, 'myntra')\n",
      "(10, 'chrome')\n",
      "(11, 'camera')\n",
      "(12, 'clock')\n",
      "(13, 'instagram')\n",
      "(14, 'whatsapp')\n"
     ]
    }
   ],
   "source": [
    "for app in enumerate(apps):         # for printing index(position) along with value   \n",
    "    print(app)"
   ]
  },
  {
   "cell_type": "code",
   "execution_count": 23,
   "metadata": {},
   "outputs": [
    {
     "name": "stdout",
     "output_type": "stream",
     "text": [
      "0 act fibernet\n",
      "1 airtel\n",
      "2 amazon\n",
      "3 alexa\n",
      "4 blinkit\n",
      "5 calculator\n",
      "6 calendar\n",
      "7 call\n",
      "8 flipkart\n",
      "9 myntra\n",
      "10 chrome\n"
     ]
    }
   ],
   "source": [
    "for i, app in enumerate(apps):\n",
    "    if i>10:\n",
    "        break\n",
    "    print(i,app)   #i for index"
   ]
  },
  {
   "cell_type": "code",
   "execution_count": null,
   "metadata": {},
   "outputs": [],
   "source": []
  }
 ],
 "metadata": {
  "kernelspec": {
   "display_name": "base",
   "language": "python",
   "name": "python3"
  },
  "language_info": {
   "codemirror_mode": {
    "name": "ipython",
    "version": 3
   },
   "file_extension": ".py",
   "mimetype": "text/x-python",
   "name": "python",
   "nbconvert_exporter": "python",
   "pygments_lexer": "ipython3",
   "version": "3.10.8"
  },
  "orig_nbformat": 4,
  "vscode": {
   "interpreter": {
    "hash": "52236d22129a75ab835724e428b1ab135b312e0a611d325bdda6363d517cf0f1"
   }
  }
 },
 "nbformat": 4,
 "nbformat_minor": 2
}
