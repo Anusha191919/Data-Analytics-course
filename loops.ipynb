{
 "cells": [
  {
   "cell_type": "code",
   "execution_count": 1,
   "metadata": {},
   "outputs": [],
   "source": [
    "#LOOPS- (1)STEP BASED- FOR KNOWN NO. OF REPITITIONS (FOR LOOP)\n",
    "# (2)-CONDITION BASED- FOR UNKNOWN REPITITIONS(WHILE LOOP)\n",
    "# FOR CONTROLLING LOOP- USE(1) BREAK{TO STOP} (2) CONTINUE{TO SKIP STEP}\n",
    "#ITERABLES- IN WHICH ONE ITEM CAN BE USED AT A TIME eg:string, list, tuple, set, dictionary, range(), zip(), enumerate()"
   ]
  },
  {
   "cell_type": "code",
   "execution_count": 3,
   "metadata": {},
   "outputs": [
    {
     "name": "stdout",
     "output_type": "stream",
     "text": [
      "125623567821"
     ]
    }
   ],
   "source": [
    "x=[12,56,23,56,78,21]         #list\n",
    "for item in x:\n",
    "    print(item,end='')"
   ]
  },
  {
   "cell_type": "code",
   "execution_count": 4,
   "metadata": {},
   "outputs": [
    {
     "name": "stdout",
     "output_type": "stream",
     "text": [
      "total apps=15\n"
     ]
    }
   ],
   "source": [
    "apps= ['act fibernet','airtel','amazon','alexa','blinkit','calculator','calendar','call',\n",
    "'flipkart','myntra','chrome','camera','clock','instagram','whatsapp']\n",
    "print(f'total apps={len(apps)}') # len- for the length of apps"
   ]
  },
  {
   "cell_type": "code",
   "execution_count": 7,
   "metadata": {},
   "outputs": [
    {
     "name": "stdout",
     "output_type": "stream",
     "text": [
      "act fibernet\n",
      "airtel\n",
      "amazon\n",
      "alexa\n",
      "blinkit\n",
      "calculator\n",
      "calendar\n",
      "call\n",
      "flipkart\n",
      "myntra\n",
      "chrome\n",
      "camera\n",
      "clock\n",
      "instagram\n",
      "whatsapp\n"
     ]
    }
   ],
   "source": [
    "for app in apps:\n",
    "    print(app)    #end is used to display in straight line and if not used, data displayed vertically"
   ]
  },
  {
   "cell_type": "code",
   "execution_count": 10,
   "metadata": {},
   "outputs": [
    {
     "name": "stdout",
     "output_type": "stream",
     "text": [
      "act fibernet    12\n",
      "airtel          6\n",
      "amazon          6\n",
      "alexa           5\n",
      "blinkit         7\n",
      "calculator      10\n",
      "calendar        8\n",
      "call            4\n",
      "flipkart        8\n",
      "myntra          6\n",
      "chrome          6\n",
      "camera          6\n",
      "clock           5\n",
      "instagram       9\n",
      "whatsapp        8\n"
     ]
    }
   ],
   "source": [
    "for app in apps:\n",
    "    print(f'{app:15} {len(app)}')  #:no. is for no. of spacing"
   ]
  },
  {
   "cell_type": "code",
   "execution_count": 11,
   "metadata": {},
   "outputs": [
    {
     "name": "stdout",
     "output_type": "stream",
     "text": [
      "act fibernet\n",
      "amazon\n",
      "blinkit\n",
      "calendar\n",
      "myntra\n",
      "instagram\n"
     ]
    }
   ],
   "source": [
    "for app in apps:\n",
    "    if 'n' in app:\n",
    "        print(app)"
   ]
  },
  {
   "cell_type": "code",
   "execution_count": 14,
   "metadata": {},
   "outputs": [
    {
     "name": "stdout",
     "output_type": "stream",
     "text": [
      "act fibernet\n",
      "airtel\n",
      "amazon\n",
      "alexa\n"
     ]
    }
   ],
   "source": [
    "for app in apps:\n",
    "    if app.startswith('a'):   #variable.startswith() to check first letter\n",
    "        print(app)"
   ]
  },
  {
   "cell_type": "code",
   "execution_count": 16,
   "metadata": {},
   "outputs": [
    {
     "name": "stdout",
     "output_type": "stream",
     "text": [
      "12\n",
      "56\n",
      "67\n",
      "32\n",
      "6\n",
      "68\n"
     ]
    }
   ],
   "source": [
    "data=[12,56,0,67,0,32,6,0,68,0,0,0]    #for not printing 0\n",
    "for i in data:\n",
    "    if i == 0:\n",
    "        continue\n",
    "    print(i)"
   ]
  },
  {
   "cell_type": "code",
   "execution_count": 17,
   "metadata": {},
   "outputs": [
    {
     "name": "stdout",
     "output_type": "stream",
     "text": [
      "32\n",
      "45\n",
      "12\n",
      "5\n",
      "6\n"
     ]
    }
   ],
   "source": [
    "data=[32,45,12,5,6,0,0,0,2,65,7,677] #for printing only till before 0\n",
    "for i in data:\n",
    "    if i==0:\n",
    "        break\n",
    "    print(i)"
   ]
  },
  {
   "cell_type": "code",
   "execution_count": 18,
   "metadata": {},
   "outputs": [
    {
     "name": "stdout",
     "output_type": "stream",
     "text": [
      "(0, 'act fibernet')\n",
      "(1, 'airtel')\n",
      "(2, 'amazon')\n",
      "(3, 'alexa')\n",
      "(4, 'blinkit')\n",
      "(5, 'calculator')\n",
      "(6, 'calendar')\n",
      "(7, 'call')\n",
      "(8, 'flipkart')\n",
      "(9, 'myntra')\n",
      "(10, 'chrome')\n",
      "(11, 'camera')\n",
      "(12, 'clock')\n",
      "(13, 'instagram')\n",
      "(14, 'whatsapp')\n"
     ]
    }
   ],
   "source": [
    "for app in enumerate(apps):         # for printing index(position) along with value   \n",
    "    print(app)"
   ]
  },
  {
   "cell_type": "code",
   "execution_count": 23,
   "metadata": {},
   "outputs": [
    {
     "name": "stdout",
     "output_type": "stream",
     "text": [
      "0 act fibernet\n",
      "1 airtel\n",
      "2 amazon\n",
      "3 alexa\n",
      "4 blinkit\n",
      "5 calculator\n",
      "6 calendar\n",
      "7 call\n",
      "8 flipkart\n",
      "9 myntra\n",
      "10 chrome\n"
     ]
    }
   ],
   "source": [
    "for i, app in enumerate(apps):\n",
    "    if i>10:\n",
    "        break\n",
    "    print(i,app)   #i for index"
   ]
  },
  {
   "cell_type": "code",
   "execution_count": 5,
   "metadata": {},
   "outputs": [
    {
     "name": "stdout",
     "output_type": "stream",
     "text": [
      "2\n",
      "3\n",
      "4\n",
      "5\n",
      "6\n",
      "7 is prime\n"
     ]
    }
   ],
   "source": [
    "#check prime no.        #for else\n",
    "num=int(input(\"enter no.\"))\n",
    "for i in range(2,num):          \n",
    "    print(i)\n",
    "    if num%i==0:\n",
    "        print(\"not prime\")\n",
    "        break\n",
    "else:\n",
    "    print(f\"{num} is prime\")"
   ]
  },
  {
   "cell_type": "code",
   "execution_count": 6,
   "metadata": {},
   "outputs": [],
   "source": [
    "#range- if any no. in range, program runs from 0 to n-1"
   ]
  },
  {
   "cell_type": "code",
   "execution_count": 7,
   "metadata": {},
   "outputs": [
    {
     "name": "stdout",
     "output_type": "stream",
     "text": [
      "0\n",
      "1\n",
      "2\n",
      "3\n",
      "4\n",
      "5\n",
      "6\n",
      "7\n",
      "8\n",
      "9\n"
     ]
    }
   ],
   "source": [
    "for i in range(10):\n",
    "    print (i)"
   ]
  },
  {
   "cell_type": "code",
   "execution_count": 10,
   "metadata": {},
   "outputs": [
    {
     "name": "stdout",
     "output_type": "stream",
     "text": [
      "8 12 16 20 24 28 "
     ]
    }
   ],
   "source": [
    "for i in range(8,30,4):    #starting value, n-1 value, no. of steps to jump\n",
    "    print (i, end=' ')"
   ]
  },
  {
   "cell_type": "code",
   "execution_count": 16,
   "metadata": {},
   "outputs": [
    {
     "name": "stdout",
     "output_type": "stream",
     "text": [
      "Pen          10.00          20\n",
      "pencil       2.00           50\n",
      "book         199.00         10\n"
     ]
    }
   ],
   "source": [
    "items=['Pen','pencil','book','sticker'] #program will run only till equal values in all\n",
    "prices=['10.00','2.00','199.00']\n",
    "qty=[20,50,10] #to display more than 1 iterables in one time use zip()\n",
    "for i,j,k in zip(items,prices,qty):\n",
    "    print(f'{i:10}   {j:10}  {k:5}')"
   ]
  },
  {
   "cell_type": "code",
   "execution_count": 19,
   "metadata": {},
   "outputs": [
    {
     "name": "stdout",
     "output_type": "stream",
     "text": [
      "5\n",
      "1234\n"
     ]
    }
   ],
   "source": [
    "#n%10= units value   quotient= //\n",
    "n=12345\n",
    "print(n%10)\n",
    "print(n//10)"
   ]
  },
  {
   "cell_type": "code",
   "execution_count": 30,
   "metadata": {},
   "outputs": [
    {
     "name": "stdout",
     "output_type": "stream",
     "text": [
      "12345\n",
      "                1234                    5\n",
      "                 123                    9\n",
      "                  12                   12\n",
      "                   1                   14\n",
      "                   0                   15\n",
      "Final 15\n"
     ]
    }
   ],
   "source": [
    "#for sum of integer\n",
    "n=int(input(\"enter no.\"))\n",
    "print(n)\n",
    "total=0\n",
    "while n>0:\n",
    "    total+= n%10   #add remainder to total\n",
    "    n=n//10        #make the quotient as number\n",
    "    print(f'{n:20} {total:20}')\n",
    "print(f\"Final {total}\")\n"
   ]
  },
  {
   "cell_type": "code",
   "execution_count": 34,
   "metadata": {},
   "outputs": [
    {
     "name": "stdout",
     "output_type": "stream",
     "text": [
      "try again, retries left= 2\n",
      "try again, retries left= 1\n",
      "try again, retries left= 0\n"
     ]
    }
   ],
   "source": [
    "# if retries>3, program close\n",
    "retries=0\n",
    "while retries<3:\n",
    "    pin=input(\"enter pin\")\n",
    "    if(pin=='1234'):\n",
    "        print(\"Welcome\")\n",
    "        break\n",
    "    else:\n",
    "        print(f'try again, retries left= {2-retries}')\n",
    "        retries+=1"
   ]
  },
  {
   "cell_type": "code",
   "execution_count": 1,
   "metadata": {},
   "outputs": [],
   "source": []
  },
  {
   "cell_type": "code",
   "execution_count": null,
   "metadata": {},
   "outputs": [],
   "source": []
  }
 ],
 "metadata": {
  "kernelspec": {
   "display_name": "base",
   "language": "python",
   "name": "python3"
  },
  "language_info": {
   "codemirror_mode": {
    "name": "ipython",
    "version": 3
   },
   "file_extension": ".py",
   "mimetype": "text/x-python",
   "name": "python",
   "nbconvert_exporter": "python",
   "pygments_lexer": "ipython3",
   "version": "3.10.8"
  },
  "orig_nbformat": 4,
  "vscode": {
   "interpreter": {
    "hash": "52236d22129a75ab835724e428b1ab135b312e0a611d325bdda6363d517cf0f1"
   }
  }
 },
 "nbformat": 4,
 "nbformat_minor": 2
}
