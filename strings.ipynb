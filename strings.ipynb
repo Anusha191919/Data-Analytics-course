{
 "cells": [
  {
   "cell_type": "code",
   "execution_count": 2,
   "metadata": {},
   "outputs": [],
   "source": [
    "# string is a sequence of unicode (universal code) character\n",
    "#unicode is for 16 million characters\n",
    "#python supports unicode (for multiple language)\n",
    "#indexing- starts with 0, we csn access individual characters, indexing can be from left (0,1,2..) or right(-3,-2,-1)\n",
    "#slicing- a section of string"
   ]
  },
  {
   "cell_type": "code",
   "execution_count": 5,
   "metadata": {},
   "outputs": [
    {
     "name": "stdout",
     "output_type": "stream",
     "text": [
      "pod\n",
      "digi\n",
      "digi\n",
      "podium\n"
     ]
    }
   ],
   "source": [
    "s='digipodium'\n",
    "slice1 = s[4:7]  #slice no. se ek kam no. tak\n",
    "print(slice1)\n",
    "print(s[0:4]) \n",
    "                 #if omiting first index, slice strts at [0]\n",
    "print(s[:4])\n",
    "print(s[4:])    #if omiting secong index, slice ends at [last]"
   ]
  },
  {
   "cell_type": "code",
   "execution_count": 3,
   "metadata": {},
   "outputs": [
    {
     "name": "stdout",
     "output_type": "stream",
     "text": [
      "Anusha\n",
      "Mujeeb\n"
     ]
    }
   ],
   "source": [
    "name='Anusha Mujeeb'\n",
    "fname= name[:6]\n",
    "lname= name[7:]\n",
    "print(fname)\n",
    "print(lname)"
   ]
  },
  {
   "cell_type": "code",
   "execution_count": 5,
   "metadata": {},
   "outputs": [
    {
     "data": {
      "text/plain": [
       "'beejuM ahsunA'"
      ]
     },
     "execution_count": 5,
     "metadata": {},
     "output_type": "execute_result"
    }
   ],
   "source": [
    "#string reverse - with slicing (only)\n",
    "name[::-1]    #:: right to left\n"
   ]
  },
  {
   "cell_type": "code",
   "execution_count": 6,
   "metadata": {},
   "outputs": [
    {
     "data": {
      "text/plain": [
       "'Auh ueb'"
      ]
     },
     "execution_count": 6,
     "metadata": {},
     "output_type": "execute_result"
    }
   ],
   "source": [
    "#even character of string\n",
    "name[::2]"
   ]
  },
  {
   "cell_type": "code",
   "execution_count": 7,
   "metadata": {},
   "outputs": [
    {
     "data": {
      "text/plain": [
       "'nsaMje'"
      ]
     },
     "execution_count": 7,
     "metadata": {},
     "output_type": "execute_result"
    }
   ],
   "source": [
    "# odd character of string\n",
    "name[1::2]"
   ]
  },
  {
   "cell_type": "code",
   "execution_count": 9,
   "metadata": {},
   "outputs": [
    {
     "data": {
      "text/plain": [
       "'Mujeeb'"
      ]
     },
     "execution_count": 9,
     "metadata": {},
     "output_type": "execute_result"
    }
   ],
   "source": [
    "name[::-1][:6][::-1]"
   ]
  },
  {
   "cell_type": "code",
   "execution_count": 10,
   "metadata": {},
   "outputs": [
    {
     "data": {
      "text/plain": [
       "59.3"
      ]
     },
     "execution_count": 10,
     "metadata": {},
     "output_type": "execute_result"
    }
   ],
   "source": [
    "data='59.30%'   #convert this to float\n",
    "float(data[:-1])   #[:-1]   starting se chalo, last wala chhor do"
   ]
  },
  {
   "cell_type": "code",
   "execution_count": 12,
   "metadata": {},
   "outputs": [
    {
     "data": {
      "text/plain": [
       "56780"
      ]
     },
     "execution_count": 12,
     "metadata": {},
     "output_type": "execute_result"
    }
   ],
   "source": [
    "value= '$56780+'\n",
    "int(value[1:-1])     #first se start, last wala chhoro"
   ]
  },
  {
   "cell_type": "code",
   "execution_count": 17,
   "metadata": {},
   "outputs": [
    {
     "name": "stdout",
     "output_type": "stream",
     "text": [
      "\b\n",
      "A\n",
      "𞉀\n",
      "ऽ\n"
     ]
    }
   ],
   "source": [
    "#builtin function\n",
    "#chr tells unicode\n",
    "x= chr(8)\n",
    "print(x)\n",
    "print(chr(65))\n",
    "print(chr(123456))   #as memory for 16 mil. not supporting on vs code, printing ?\n",
    "print(chr(2365))"
   ]
  },
  {
   "cell_type": "code",
   "execution_count": 20,
   "metadata": {},
   "outputs": [
    {
     "name": "stdout",
     "output_type": "stream",
     "text": [
      "65\n",
      "63\n",
      "97\n"
     ]
    }
   ],
   "source": [
    "# to know unicode------ord(''),only single character at once\n",
    "y= ord ('A')\n",
    "print(y)\n",
    "print (ord('?'))\n",
    "print(ord('a'))"
   ]
  },
  {
   "cell_type": "code",
   "execution_count": 24,
   "metadata": {},
   "outputs": [
    {
     "name": "stdout",
     "output_type": "stream",
     "text": [
      "Anusha Mujeeb\n"
     ]
    }
   ],
   "source": [
    "#concatenation= to join 2 or more strings\n",
    "a='Anusha'\n",
    "b='Mujeeb'\n",
    "print(a+' ' +b)"
   ]
  },
  {
   "cell_type": "code",
   "execution_count": 27,
   "metadata": {},
   "outputs": [
    {
     "name": "stdout",
     "output_type": "stream",
     "text": [
      "AnushaAnushaAnusha\n",
      "hi hi hi hi hi \n",
      "-------------------------\n"
     ]
    }
   ],
   "source": [
    "#duplication= if string is multiplied by a no, it gets repeated\n",
    "print(a*3)\n",
    "#for spacing, enter a space within string\n",
    "h='hi '\n",
    "print(h*5)\n",
    "print('-'*25)"
   ]
  },
  {
   "cell_type": "code",
   "execution_count": 28,
   "metadata": {},
   "outputs": [],
   "source": [
    "#pattern printing\n",
    "#using duplication with for loop"
   ]
  },
  {
   "cell_type": "code",
   "execution_count": 1,
   "metadata": {},
   "outputs": [],
   "source": [
    "#name[: : :]- error aayega"
   ]
  },
  {
   "cell_type": "code",
   "execution_count": 2,
   "metadata": {},
   "outputs": [],
   "source": [
    "#functions of string---- string methods\n",
    "#variable k baad access is method, directly is function\n",
    "x= 'alpha'\n",
    "#x. k baad jo list aa rhi wo methods hai, depends on data type\n",
    "#formatting methods\n",
    " #   -upper()     return type function\n",
    " #     -lower()   return type function\n",
    " #  -capitalize()  return type function\n",
    " #  -title()\n",
    " #   -swapcase()"
   ]
  },
  {
   "cell_type": "code",
   "execution_count": 3,
   "metadata": {},
   "outputs": [],
   "source": [
    "msg ='Journey Before Destination'"
   ]
  },
  {
   "cell_type": "code",
   "execution_count": 4,
   "metadata": {},
   "outputs": [
    {
     "data": {
      "text/plain": [
       "'JOURNEY BEFORE DESTINATION'"
      ]
     },
     "execution_count": 4,
     "metadata": {},
     "output_type": "execute_result"
    }
   ],
   "source": [
    "msg.upper()"
   ]
  },
  {
   "cell_type": "code",
   "execution_count": 5,
   "metadata": {},
   "outputs": [
    {
     "data": {
      "text/plain": [
       "'journey before destination'"
      ]
     },
     "execution_count": 5,
     "metadata": {},
     "output_type": "execute_result"
    }
   ],
   "source": [
    "msg.lower()"
   ]
  },
  {
   "cell_type": "code",
   "execution_count": 9,
   "metadata": {},
   "outputs": [
    {
     "name": "stdout",
     "output_type": "stream",
     "text": [
      "Journey Before Destination\n"
     ]
    }
   ],
   "source": [
    "print(msg)   #the methods are only for output as they are not saved above in any variable. to save changes store in any other variable"
   ]
  },
  {
   "cell_type": "code",
   "execution_count": 8,
   "metadata": {},
   "outputs": [
    {
     "data": {
      "text/plain": [
       "'Journey before destination'"
      ]
     },
     "execution_count": 8,
     "metadata": {},
     "output_type": "execute_result"
    }
   ],
   "source": [
    "msg.capitalize()    #capitalises first letter of string"
   ]
  },
  {
   "cell_type": "code",
   "execution_count": 10,
   "metadata": {},
   "outputs": [
    {
     "data": {
      "text/plain": [
       "'jOURNEY bEFORE dESTINATION'"
      ]
     },
     "execution_count": 10,
     "metadata": {},
     "output_type": "execute_result"
    }
   ],
   "source": [
    "msg.swapcase()    #changes case of character"
   ]
  },
  {
   "cell_type": "code",
   "execution_count": 11,
   "metadata": {},
   "outputs": [
    {
     "data": {
      "text/plain": [
       "'Journey Before Destination'"
      ]
     },
     "execution_count": 11,
     "metadata": {},
     "output_type": "execute_result"
    }
   ],
   "source": [
    "msg.title()   #har word k first character ko capital"
   ]
  },
  {
   "cell_type": "code",
   "execution_count": 12,
   "metadata": {},
   "outputs": [
    {
     "data": {
      "text/plain": [
       "'journey before destination'"
      ]
     },
     "execution_count": 12,
     "metadata": {},
     "output_type": "execute_result"
    }
   ],
   "source": [
    "msg.casefold()   #same as lower in terms of output"
   ]
  },
  {
   "cell_type": "code",
   "execution_count": 13,
   "metadata": {},
   "outputs": [],
   "source": [
    "#   string utility method\n",
    "#  - strip()\n",
    "#  -count()\n",
    "#   -split()\n",
    "#   -join()\n",
    "#    -find()\n",
    "#    -replace()"
   ]
  },
  {
   "cell_type": "code",
   "execution_count": 16,
   "metadata": {},
   "outputs": [
    {
     "name": "stdout",
     "output_type": "stream",
     "text": [
      "    Anusha\n",
      "10\n"
     ]
    }
   ],
   "source": [
    "name = input('enter your name')\n",
    "print(name)   #space given in name\n",
    "print(len(name))"
   ]
  },
  {
   "cell_type": "code",
   "execution_count": 18,
   "metadata": {},
   "outputs": [
    {
     "name": "stdout",
     "output_type": "stream",
     "text": [
      "Anusha 6\n"
     ]
    }
   ],
   "source": [
    "clean_name=name.strip()   #starting or ending k space remove karega, beech ki space nii dekhta\n",
    "print(clean_name,len(clean_name))"
   ]
  },
  {
   "cell_type": "code",
   "execution_count": 19,
   "metadata": {},
   "outputs": [
    {
     "data": {
      "text/plain": [
       "7"
      ]
     },
     "execution_count": 19,
     "metadata": {},
     "output_type": "execute_result"
    }
   ],
   "source": [
    "data='abcdeabcdeafyghnagnjklaaartgh'\n",
    "data.count('a')   #count no. of a in string   'a' and 'A' are different"
   ]
  },
  {
   "cell_type": "code",
   "execution_count": 20,
   "metadata": {},
   "outputs": [
    {
     "data": {
      "text/plain": [
       "9"
      ]
     },
     "execution_count": 20,
     "metadata": {},
     "output_type": "execute_result"
    }
   ],
   "source": [
    "data.count('a')+ data.count('b')"
   ]
  },
  {
   "cell_type": "code",
   "execution_count": 36,
   "metadata": {},
   "outputs": [
    {
     "data": {
      "text/plain": [
       "3"
      ]
     },
     "execution_count": 36,
     "metadata": {},
     "output_type": "execute_result"
    }
   ],
   "source": [
    "data= '''Once upon a time , there was a hero who saved the world. One   \n",
    " day he went to sleep. the end'''\n",
    "data.count('the')   #because there ka the bhi count hua hai"
   ]
  },
  {
   "cell_type": "code",
   "execution_count": 26,
   "metadata": {},
   "outputs": [
    {
     "data": {
      "text/plain": [
       "88"
      ]
     },
     "execution_count": 26,
     "metadata": {},
     "output_type": "execute_result"
    }
   ],
   "source": [
    "len(data) #no. of characters"
   ]
  },
  {
   "cell_type": "code",
   "execution_count": 29,
   "metadata": {},
   "outputs": [
    {
     "name": "stdout",
     "output_type": "stream",
     "text": [
      "['Once', 'upon', 'a', 'time', 'there', 'was', 'a', 'hero', 'who', 'saved', 'the', 'world.', 'One', 'day', 'he', 'went', 'to', 'sleep.', 'the', 'end'] 20\n"
     ]
    }
   ],
   "source": [
    "words=data.split()    #words alag kar deta hai  #to find no. of words\n",
    "print(words, len(words))"
   ]
  },
  {
   "cell_type": "code",
   "execution_count": 32,
   "metadata": {},
   "outputs": [
    {
     "data": {
      "text/plain": [
       "['Onc',\n",
       " ' upon a tim',\n",
       " ' th',\n",
       " 'r',\n",
       " ' was a h',\n",
       " 'ro who sav',\n",
       " 'd th',\n",
       " ' world. On',\n",
       " ' day h',\n",
       " ' w',\n",
       " 'nt to sl',\n",
       " '',\n",
       " 'p. th',\n",
       " ' ',\n",
       " 'nd']"
      ]
     },
     "execution_count": 32,
     "metadata": {},
     "output_type": "execute_result"
    }
   ],
   "source": [
    "data.split('e')   #character se alag karta hai"
   ]
  },
  {
   "cell_type": "code",
   "execution_count": 37,
   "metadata": {},
   "outputs": [
    {
     "name": "stdout",
     "output_type": "stream",
     "text": [
      "Once upon a time , there was a hero who saved the world. One   \n",
      " day he went to sleep. the end\n"
     ]
    }
   ],
   "source": [
    "print(data)"
   ]
  },
  {
   "cell_type": "code",
   "execution_count": 39,
   "metadata": {},
   "outputs": [
    {
     "data": {
      "text/plain": [
       "['Once upon a time , there was a hero who saved the world. One   ',\n",
       " ' day he went to sleep. the end']"
      ]
     },
     "execution_count": 39,
     "metadata": {},
     "output_type": "execute_result"
    }
   ],
   "source": [
    "data.splitlines()   #line split karta hai"
   ]
  },
  {
   "cell_type": "code",
   "execution_count": 43,
   "metadata": {},
   "outputs": [],
   "source": [
    "address_parts =['C 184,4',\n",
    "                'Railway Colony',\n",
    "                'RDSO',\n",
    "                'Manak Nagar',\n",
    "                'Lucknow',\n",
    "                '226011']"
   ]
  },
  {
   "cell_type": "code",
   "execution_count": 44,
   "metadata": {},
   "outputs": [
    {
     "name": "stdout",
     "output_type": "stream",
     "text": [
      "['C 184,4', 'Railway Colony', 'RDSO', 'Manak Nagar', 'Lucknow', '226011']\n"
     ]
    }
   ],
   "source": [
    "print(address_parts)   #list of words hain, users ko display krne layak nahi hai"
   ]
  },
  {
   "cell_type": "code",
   "execution_count": 45,
   "metadata": {},
   "outputs": [
    {
     "data": {
      "text/plain": [
       "'C 184,4 Railway Colony RDSO Manak Nagar Lucknow 226011'"
      ]
     },
     "execution_count": 45,
     "metadata": {},
     "output_type": "execute_result"
    }
   ],
   "source": [
    "\" \".join(address_parts)   # ek character jisse join karna ho usko .join(variable)"
   ]
  },
  {
   "cell_type": "code",
   "execution_count": 47,
   "metadata": {},
   "outputs": [
    {
     "name": "stdout",
     "output_type": "stream",
     "text": [
      "C 184,4\n",
      "Railway Colony\n",
      "RDSO\n",
      "Manak Nagar\n",
      "Lucknow\n",
      "226011\n"
     ]
    }
   ],
   "source": [
    "print('\\n'.join(address_parts))   #yaha \\n se join hai"
   ]
  },
  {
   "cell_type": "code",
   "execution_count": null,
   "metadata": {},
   "outputs": [],
   "source": []
  }
 ],
 "metadata": {
  "kernelspec": {
   "display_name": "base",
   "language": "python",
   "name": "python3"
  },
  "language_info": {
   "codemirror_mode": {
    "name": "ipython",
    "version": 3
   },
   "file_extension": ".py",
   "mimetype": "text/x-python",
   "name": "python",
   "nbconvert_exporter": "python",
   "pygments_lexer": "ipython3",
   "version": "3.10.8"
  },
  "orig_nbformat": 4,
  "vscode": {
   "interpreter": {
    "hash": "52236d22129a75ab835724e428b1ab135b312e0a611d325bdda6363d517cf0f1"
   }
  }
 },
 "nbformat": 4,
 "nbformat_minor": 2
}
