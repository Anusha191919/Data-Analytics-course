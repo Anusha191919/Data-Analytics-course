{
 "cells": [
  {
   "cell_type": "code",
   "execution_count": 2,
   "metadata": {},
   "outputs": [],
   "source": [
    "# string is a sequence of unicode (universal code) character\n",
    "#unicode is for 16 million characters\n",
    "#python supports unicode (for multiple language)\n",
    "#indexing- starts with 0, we csn access individual characters, indexing can be from left (0,1,2..) or right(-3,-2,-1)\n",
    "#slicing- a section of string"
   ]
  },
  {
   "cell_type": "code",
   "execution_count": 5,
   "metadata": {},
   "outputs": [
    {
     "name": "stdout",
     "output_type": "stream",
     "text": [
      "pod\n",
      "digi\n",
      "digi\n",
      "podium\n"
     ]
    }
   ],
   "source": [
    "s='digipodium'\n",
    "slice1 = s[4:7]  #slice no. se ek kam no. tak\n",
    "print(slice1)\n",
    "print(s[0:4]) \n",
    "                 #if omiting first index, slice strts at [0]\n",
    "print(s[:4])\n",
    "print(s[4:])    #if omiting secong index, slice ends at [last]"
   ]
  },
  {
   "cell_type": "code",
   "execution_count": 3,
   "metadata": {},
   "outputs": [
    {
     "name": "stdout",
     "output_type": "stream",
     "text": [
      "Anusha\n",
      "Mujeeb\n"
     ]
    }
   ],
   "source": [
    "name='Anusha Mujeeb'\n",
    "fname= name[:6]\n",
    "lname= name[7:]\n",
    "print(fname)\n",
    "print(lname)"
   ]
  },
  {
   "cell_type": "code",
   "execution_count": 5,
   "metadata": {},
   "outputs": [
    {
     "data": {
      "text/plain": [
       "'beejuM ahsunA'"
      ]
     },
     "execution_count": 5,
     "metadata": {},
     "output_type": "execute_result"
    }
   ],
   "source": [
    "#string reverse - with slicing (only)\n",
    "name[::-1]    #:: right to left\n"
   ]
  },
  {
   "cell_type": "code",
   "execution_count": 6,
   "metadata": {},
   "outputs": [
    {
     "data": {
      "text/plain": [
       "'Auh ueb'"
      ]
     },
     "execution_count": 6,
     "metadata": {},
     "output_type": "execute_result"
    }
   ],
   "source": [
    "#even character of string\n",
    "name[::2]"
   ]
  },
  {
   "cell_type": "code",
   "execution_count": 7,
   "metadata": {},
   "outputs": [
    {
     "data": {
      "text/plain": [
       "'nsaMje'"
      ]
     },
     "execution_count": 7,
     "metadata": {},
     "output_type": "execute_result"
    }
   ],
   "source": [
    "# odd character of string\n",
    "name[1::2]"
   ]
  },
  {
   "cell_type": "code",
   "execution_count": 9,
   "metadata": {},
   "outputs": [
    {
     "data": {
      "text/plain": [
       "'Mujeeb'"
      ]
     },
     "execution_count": 9,
     "metadata": {},
     "output_type": "execute_result"
    }
   ],
   "source": [
    "name[::-1][:6][::-1]"
   ]
  },
  {
   "cell_type": "code",
   "execution_count": 10,
   "metadata": {},
   "outputs": [
    {
     "data": {
      "text/plain": [
       "59.3"
      ]
     },
     "execution_count": 10,
     "metadata": {},
     "output_type": "execute_result"
    }
   ],
   "source": [
    "data='59.30%'   #convert this to float\n",
    "float(data[:-1])   #[:-1]   starting se chalo, last wala chhor do"
   ]
  },
  {
   "cell_type": "code",
   "execution_count": 12,
   "metadata": {},
   "outputs": [
    {
     "data": {
      "text/plain": [
       "56780"
      ]
     },
     "execution_count": 12,
     "metadata": {},
     "output_type": "execute_result"
    }
   ],
   "source": [
    "value= '$56780+'\n",
    "int(value[1:-1])     #first se start, last wala chhoro"
   ]
  },
  {
   "cell_type": "code",
   "execution_count": 17,
   "metadata": {},
   "outputs": [
    {
     "name": "stdout",
     "output_type": "stream",
     "text": [
      "\b\n",
      "A\n",
      "𞉀\n",
      "ऽ\n"
     ]
    }
   ],
   "source": [
    "#builtin function\n",
    "#chr tells unicode\n",
    "x= chr(8)\n",
    "print(x)\n",
    "print(chr(65))\n",
    "print(chr(123456))   #as memory for 16 mil. not supporting on vs code, printing ?\n",
    "print(chr(2365))"
   ]
  },
  {
   "cell_type": "code",
   "execution_count": 20,
   "metadata": {},
   "outputs": [
    {
     "name": "stdout",
     "output_type": "stream",
     "text": [
      "65\n",
      "63\n",
      "97\n"
     ]
    }
   ],
   "source": [
    "# to know unicode------ord(''),only single character at once\n",
    "y= ord ('A')\n",
    "print(y)\n",
    "print (ord('?'))\n",
    "print(ord('a'))"
   ]
  },
  {
   "cell_type": "code",
   "execution_count": 24,
   "metadata": {},
   "outputs": [
    {
     "name": "stdout",
     "output_type": "stream",
     "text": [
      "Anusha Mujeeb\n"
     ]
    }
   ],
   "source": [
    "#concatenation= to join 2 or more strings\n",
    "a='Anusha'\n",
    "b='Mujeeb'\n",
    "print(a+' ' +b)"
   ]
  },
  {
   "cell_type": "code",
   "execution_count": 27,
   "metadata": {},
   "outputs": [
    {
     "name": "stdout",
     "output_type": "stream",
     "text": [
      "AnushaAnushaAnusha\n",
      "hi hi hi hi hi \n",
      "-------------------------\n"
     ]
    }
   ],
   "source": [
    "#duplication= if string is multiplied by a no, it gets repeated\n",
    "print(a*3)\n",
    "#for spacing, enter a space within string\n",
    "h='hi '\n",
    "print(h*5)\n",
    "print('-'*25)"
   ]
  },
  {
   "cell_type": "code",
   "execution_count": 28,
   "metadata": {},
   "outputs": [],
   "source": [
    "#pattern printing\n",
    "#using duplication with for loop"
   ]
  },
  {
   "cell_type": "code",
   "execution_count": null,
   "metadata": {},
   "outputs": [],
   "source": []
  }
 ],
 "metadata": {
  "kernelspec": {
   "display_name": "base",
   "language": "python",
   "name": "python3"
  },
  "language_info": {
   "codemirror_mode": {
    "name": "ipython",
    "version": 3
   },
   "file_extension": ".py",
   "mimetype": "text/x-python",
   "name": "python",
   "nbconvert_exporter": "python",
   "pygments_lexer": "ipython3",
   "version": "3.10.8"
  },
  "orig_nbformat": 4,
  "vscode": {
   "interpreter": {
    "hash": "52236d22129a75ab835724e428b1ab135b312e0a611d325bdda6363d517cf0f1"
   }
  }
 },
 "nbformat": 4,
 "nbformat_minor": 2
}
