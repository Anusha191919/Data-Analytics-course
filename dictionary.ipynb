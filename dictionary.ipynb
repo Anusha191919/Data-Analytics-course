{
 "cells": [
  {
   "cell_type": "code",
   "execution_count": 1,
   "metadata": {},
   "outputs": [
    {
     "data": {
      "text/plain": [
       "['Bruce', 'Wayne', 'Business Tycoon', 'Gotham', 'Batman']"
      ]
     },
     "execution_count": 1,
     "metadata": {},
     "output_type": "execute_result"
    }
   ],
   "source": [
    "['Bruce','Wayne','Business Tycoon','Gotham','Batman']"
   ]
  },
  {
   "cell_type": "code",
   "execution_count": 3,
   "metadata": {},
   "outputs": [],
   "source": [
    "book= {\n",
    "    'title' : 'the lost metal',\n",
    "    'author' : 'brandon sanderson',\n",
    "    'pages' : 899,\n",
    "    'price' : '$19.99',\n",
    "    'publisher' : 'tor books',\n",
    "    'type'  :  'hardcover',\n",
    "    'genre'  : 'fantasy',\n",
    "}"
   ]
  },
  {
   "attachments": {},
   "cell_type": "markdown",
   "metadata": {},
   "source": [
    "dictionary\n",
    "-mutable\n",
    "-unindexed\n",
    "key : value pairs\n",
    "keys are unique\n",
    "keys are immutable\n",
    "values are mutable\n",
    "represented by {}\n",
    "can be nested\n",
    "dict() can be used to create a dictionary"
   ]
  },
  {
   "cell_type": "code",
   "execution_count": 10,
   "metadata": {},
   "outputs": [
    {
     "data": {
      "text/plain": [
       "'the lost metal'"
      ]
     },
     "execution_count": 10,
     "metadata": {},
     "output_type": "execute_result"
    }
   ],
   "source": [
    "book['title']   #keys are inserted inside the bracket"
   ]
  },
  {
   "cell_type": "code",
   "execution_count": 12,
   "metadata": {},
   "outputs": [
    {
     "data": {
      "text/plain": [
       "'tor books'"
      ]
     },
     "execution_count": 12,
     "metadata": {},
     "output_type": "execute_result"
    }
   ],
   "source": [
    "key = 'publisher'\n",
    "book[key]"
   ]
  },
  {
   "cell_type": "code",
   "execution_count": 13,
   "metadata": {},
   "outputs": [
    {
     "data": {
      "text/plain": [
       "'$19.99'"
      ]
     },
     "execution_count": 13,
     "metadata": {},
     "output_type": "execute_result"
    }
   ],
   "source": [
    "book['price']"
   ]
  },
  {
   "cell_type": "code",
   "execution_count": 17,
   "metadata": {},
   "outputs": [],
   "source": [
    "#to add new key\n",
    "book\n",
    "book ['rating']= 4.9"
   ]
  },
  {
   "cell_type": "code",
   "execution_count": 18,
   "metadata": {},
   "outputs": [
    {
     "data": {
      "text/plain": [
       "['title',\n",
       " 'author',\n",
       " 'pages',\n",
       " 'price',\n",
       " 'publisher',\n",
       " 'type',\n",
       " 'genre',\n",
       " 'ating',\n",
       " 'rating']"
      ]
     },
     "execution_count": 18,
     "metadata": {},
     "output_type": "execute_result"
    }
   ],
   "source": [
    "list(book.keys())"
   ]
  },
  {
   "cell_type": "code",
   "execution_count": 19,
   "metadata": {},
   "outputs": [
    {
     "data": {
      "text/plain": [
       "['the lost metal',\n",
       " 'brandon sanderson',\n",
       " 899,\n",
       " '$19.99',\n",
       " 'tor books',\n",
       " 'hardcover',\n",
       " 'fantasy',\n",
       " 4.9,\n",
       " 4.9]"
      ]
     },
     "execution_count": 19,
     "metadata": {},
     "output_type": "execute_result"
    }
   ],
   "source": [
    "list(book.values())"
   ]
  },
  {
   "cell_type": "code",
   "execution_count": 20,
   "metadata": {},
   "outputs": [
    {
     "data": {
      "text/plain": [
       "[('title', 'the lost metal'),\n",
       " ('author', 'brandon sanderson'),\n",
       " ('pages', 899),\n",
       " ('price', '$19.99'),\n",
       " ('publisher', 'tor books'),\n",
       " ('type', 'hardcover'),\n",
       " ('genre', 'fantasy'),\n",
       " ('ating', 4.9),\n",
       " ('rating', 4.9)]"
      ]
     },
     "execution_count": 20,
     "metadata": {},
     "output_type": "execute_result"
    }
   ],
   "source": [
    "list(book.items())"
   ]
  },
  {
   "cell_type": "code",
   "execution_count": 22,
   "metadata": {},
   "outputs": [
    {
     "name": "stdout",
     "output_type": "stream",
     "text": [
      "title\n",
      "author\n",
      "pages\n",
      "price\n",
      "publisher\n",
      "type\n",
      "genre\n",
      "ating\n",
      "rating\n"
     ]
    }
   ],
   "source": [
    "# normal loop gives only keys\n",
    "for i in book:\n",
    "    print(i)"
   ]
  },
  {
   "cell_type": "code",
   "execution_count": 23,
   "metadata": {},
   "outputs": [
    {
     "name": "stdout",
     "output_type": "stream",
     "text": [
      "title the lost metal\n",
      "author brandon sanderson\n",
      "pages 899\n",
      "price $19.99\n",
      "publisher tor books\n",
      "type hardcover\n",
      "genre fantasy\n",
      "ating 4.9\n",
      "rating 4.9\n"
     ]
    }
   ],
   "source": [
    "#loop for both key and value\n",
    "for i in book:\n",
    "    print(i, book[i])"
   ]
  },
  {
   "cell_type": "code",
   "execution_count": 24,
   "metadata": {},
   "outputs": [
    {
     "name": "stdout",
     "output_type": "stream",
     "text": [
      "title the lost metal\n",
      "author brandon sanderson\n",
      "pages 899\n",
      "price $19.99\n",
      "publisher tor books\n",
      "type hardcover\n",
      "genre fantasy\n",
      "ating 4.9\n",
      "rating 4.9\n"
     ]
    }
   ],
   "source": [
    "for k,v in book.items():\n",
    "    print(k,v)"
   ]
  },
  {
   "cell_type": "code",
   "execution_count": 26,
   "metadata": {},
   "outputs": [
    {
     "name": "stdout",
     "output_type": "stream",
     "text": [
      "{'name': 'anusha', 'email': 'xyz@abc.com', 'dob': '19 oct'}\n"
     ]
    }
   ],
   "source": [
    "#for user input data\n",
    "\n",
    "userdata={}\n",
    "userdata['name']=input('enter name')\n",
    "userdata['email']=input(\"enter email\")\n",
    "userdata['dob']=input('enter dob')\n",
    "\n",
    "print(userdata)"
   ]
  },
  {
   "cell_type": "code",
   "execution_count": 30,
   "metadata": {},
   "outputs": [],
   "source": [
    "#nested dictionary\n",
    "\n",
    "report={\n",
    "    'aditya': {\n",
    "    'english': 90,\n",
    "    'hindi' :80,\n",
    "    'maths' : 40 \n",
    "    },\n",
    "    'utkarsh': {\n",
    "    'english': 40,\n",
    "    'hindi' :72,\n",
    "    'maths'  : 60,\n",
    "    }\n",
    "}"
   ]
  },
  {
   "cell_type": "code",
   "execution_count": 31,
   "metadata": {},
   "outputs": [
    {
     "data": {
      "text/plain": [
       "{'english': 40, 'hindi': 72, 'maths': 60}"
      ]
     },
     "execution_count": 31,
     "metadata": {},
     "output_type": "execute_result"
    }
   ],
   "source": [
    "report['utkarsh']"
   ]
  },
  {
   "cell_type": "code",
   "execution_count": 32,
   "metadata": {},
   "outputs": [
    {
     "data": {
      "text/plain": [
       "60"
      ]
     },
     "execution_count": 32,
     "metadata": {},
     "output_type": "execute_result"
    }
   ],
   "source": [
    "report['utkarsh'] ['maths']"
   ]
  },
  {
   "cell_type": "code",
   "execution_count": 33,
   "metadata": {},
   "outputs": [
    {
     "name": "stdout",
     "output_type": "stream",
     "text": [
      "aditya ----> english 90\n",
      "aditya ----> hindi 80\n",
      "aditya ----> maths 40\n",
      "utkarsh ----> english 40\n",
      "utkarsh ----> hindi 72\n",
      "utkarsh ----> maths 60\n"
     ]
    }
   ],
   "source": [
    "for k,v in report.items():\n",
    "    for k1, v1 in v.items():\n",
    "        print(k, '---->', k1, v1)"
   ]
  },
  {
   "cell_type": "code",
   "execution_count": 4,
   "metadata": {},
   "outputs": [
    {
     "data": {
      "text/plain": [
       "'brandon sanderson'"
      ]
     },
     "execution_count": 4,
     "metadata": {},
     "output_type": "execute_result"
    }
   ],
   "source": [
    "book.pop(\"author\")"
   ]
  },
  {
   "cell_type": "code",
   "execution_count": 5,
   "metadata": {},
   "outputs": [
    {
     "data": {
      "text/plain": [
       "{1: 'kuch bhi', 2: 'kuch bhi', 3: 'kuch bhi', 4: 'kuch bhi'}"
      ]
     },
     "execution_count": 5,
     "metadata": {},
     "output_type": "execute_result"
    }
   ],
   "source": [
    "x=[1,2,3,4]\n",
    "dict.fromkeys(x,\"kuch bhi\")"
   ]
  },
  {
   "cell_type": "code",
   "execution_count": null,
   "metadata": {},
   "outputs": [],
   "source": []
  }
 ],
 "metadata": {
  "kernelspec": {
   "display_name": "base",
   "language": "python",
   "name": "python3"
  },
  "language_info": {
   "codemirror_mode": {
    "name": "ipython",
    "version": 3
   },
   "file_extension": ".py",
   "mimetype": "text/x-python",
   "name": "python",
   "nbconvert_exporter": "python",
   "pygments_lexer": "ipython3",
   "version": "3.10.8"
  },
  "orig_nbformat": 4,
  "vscode": {
   "interpreter": {
    "hash": "52236d22129a75ab835724e428b1ab135b312e0a611d325bdda6363d517cf0f1"
   }
  }
 },
 "nbformat": 4,
 "nbformat_minor": 2
}
