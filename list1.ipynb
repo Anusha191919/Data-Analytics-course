{
 "cells": [
  {
   "cell_type": "code",
   "execution_count": 2,
   "metadata": {},
   "outputs": [],
   "source": [
    "x= []  #blank list\n",
    "x2=[1,2,3] #list with 3 elements\n",
    "x3= [12,45,'Apple','Orange'] #list with 4 elements\n",
    "x4= ['Aman','Vijay','Ritik']"
   ]
  },
  {
   "cell_type": "code",
   "execution_count": 3,
   "metadata": {},
   "outputs": [
    {
     "name": "stdout",
     "output_type": "stream",
     "text": [
      "[]\n",
      "[1, 2, 3]\n",
      "[12, 45, 'Apple', 'Orange']\n",
      "['Aman', 'Vijay', 'Ritik']\n"
     ]
    }
   ],
   "source": [
    "print(x)\n",
    "print(x2)\n",
    "print(x3)\n",
    "print(x4)\n"
   ]
  },
  {
   "cell_type": "code",
   "execution_count": 5,
   "metadata": {},
   "outputs": [
    {
     "data": {
      "text/plain": [
       "[1, 1, 1, 1, 1]"
      ]
     },
     "execution_count": 5,
     "metadata": {},
     "output_type": "execute_result"
    }
   ],
   "source": [
    "y=[1]\n",
    "y*5 #duplicated list"
   ]
  },
  {
   "cell_type": "code",
   "execution_count": 7,
   "metadata": {},
   "outputs": [
    {
     "name": "stdout",
     "output_type": "stream",
     "text": [
      "[1, 2, 3, 1, 2, 3, 1, 2, 3, 1, 2, 3, 1, 2, 3]\n"
     ]
    }
   ],
   "source": [
    "x5=x2*5\n",
    "print(x5)"
   ]
  },
  {
   "cell_type": "code",
   "execution_count": 9,
   "metadata": {},
   "outputs": [
    {
     "data": {
      "text/plain": [
       "['Aman', 'Vijay', 'Ritik', 1, 2, 3, 1, 2, 3, 1, 2, 3, 1, 2, 3, 1, 2, 3]"
      ]
     },
     "execution_count": 9,
     "metadata": {},
     "output_type": "execute_result"
    }
   ],
   "source": [
    "x4+x5 #concatenation"
   ]
  },
  {
   "cell_type": "code",
   "execution_count": 27,
   "metadata": {},
   "outputs": [],
   "source": [
    "bekaarmovies= ['chhapak','piku','diljale','raaz','humraaz']\n",
    "achhimovies=['avengers','spiderman','ddlj','kgf','3idiots']"
   ]
  },
  {
   "cell_type": "code",
   "execution_count": 34,
   "metadata": {},
   "outputs": [
    {
     "name": "stdout",
     "output_type": "stream",
     "text": [
      "['chhapak', 'piku', 'diljale', 'raaz', 'humraaz', 'avengers', 'spiderman', 'ddlj', 'kgf', '3idiots']\n"
     ]
    }
   ],
   "source": [
    "all_movies=bekaarmovies+achhimovies\n",
    "print(all_movies)"
   ]
  },
  {
   "cell_type": "code",
   "execution_count": 35,
   "metadata": {},
   "outputs": [],
   "source": [
    "#add data in existing list at the end- append......at a specific location- insert\n",
    "all_movies.append('troll2')\n",
    "all_movies.append('black widow') #append takes only one argument"
   ]
  },
  {
   "cell_type": "code",
   "execution_count": 36,
   "metadata": {},
   "outputs": [
    {
     "name": "stdout",
     "output_type": "stream",
     "text": [
      "['chhapak', 'piku', 'diljale', 'raaz', 'humraaz', 'avengers', 'spiderman', 'ddlj', 'kgf', '3idiots', 'troll2', 'black widow']\n"
     ]
    }
   ],
   "source": [
    "print(all_movies)"
   ]
  },
  {
   "cell_type": "code",
   "execution_count": 37,
   "metadata": {},
   "outputs": [
    {
     "name": "stdout",
     "output_type": "stream",
     "text": [
      "['chhapak', 'piku', 'the dark knight', 'diljale', 'raaz', 'humraaz', 'avengers', 'spiderman', 'ddlj', 'kgf', '3idiots', 'troll2', 'black widow']\n"
     ]
    }
   ],
   "source": [
    "#add movie before diljale\n",
    "all_movies.insert(2,\"the dark knight\")\n",
    "print(all_movies)"
   ]
  },
  {
   "cell_type": "code",
   "execution_count": 38,
   "metadata": {},
   "outputs": [],
   "source": [
    "sequels=['Fast and furious','2 fast 2 furious','fast and furious:tokyo drift']"
   ]
  },
  {
   "cell_type": "code",
   "execution_count": 39,
   "metadata": {},
   "outputs": [
    {
     "name": "stdout",
     "output_type": "stream",
     "text": [
      "['chhapak', 'piku', 'the dark knight', 'diljale', 'raaz', 'humraaz', 'avengers', 'spiderman', 'ddlj', 'kgf', '3idiots', 'troll2', 'black widow', 'Fast and furious', '2 fast 2 furious', 'fast and furious:tokyo drift']\n"
     ]
    }
   ],
   "source": [
    "all_movies.extend(sequels) #ek list k item dusri list me add krne k liye extend\n",
    "print(all_movies)"
   ]
  },
  {
   "cell_type": "code",
   "execution_count": 40,
   "metadata": {},
   "outputs": [
    {
     "data": {
      "text/plain": [
       "16"
      ]
     },
     "execution_count": 40,
     "metadata": {},
     "output_type": "execute_result"
    }
   ],
   "source": [
    "len(all_movies)"
   ]
  },
  {
   "cell_type": "code",
   "execution_count": 41,
   "metadata": {},
   "outputs": [
    {
     "name": "stdout",
     "output_type": "stream",
     "text": [
      "['chhapak', 'piku', 'the dark knight', 'diljale', 'raaz']\n"
     ]
    }
   ],
   "source": [
    "x=all_movies[:5]\n",
    "print(x)"
   ]
  },
  {
   "cell_type": "code",
   "execution_count": 42,
   "metadata": {},
   "outputs": [
    {
     "data": {
      "text/plain": [
       "['troll2',\n",
       " 'black widow',\n",
       " 'Fast and furious',\n",
       " '2 fast 2 furious',\n",
       " 'fast and furious:tokyo drift']"
      ]
     },
     "execution_count": 42,
     "metadata": {},
     "output_type": "execute_result"
    }
   ],
   "source": [
    "all_movies[-5:]"
   ]
  },
  {
   "cell_type": "code",
   "execution_count": 43,
   "metadata": {},
   "outputs": [],
   "source": [
    "#to replace at any position\n",
    "all_movies[3]= 'bahubali 2'"
   ]
  },
  {
   "cell_type": "code",
   "execution_count": 44,
   "metadata": {},
   "outputs": [
    {
     "name": "stdout",
     "output_type": "stream",
     "text": [
      "['chhapak', 'piku', 'the dark knight', 'bahubali 2', 'raaz', 'humraaz', 'avengers', 'spiderman', 'ddlj', 'kgf', '3idiots', 'troll2', 'black widow', 'Fast and furious', '2 fast 2 furious', 'fast and furious:tokyo drift']\n"
     ]
    }
   ],
   "source": [
    "print(all_movies)"
   ]
  },
  {
   "cell_type": "code",
   "execution_count": 45,
   "metadata": {},
   "outputs": [],
   "source": [
    "#to reverse list\n",
    "all_movies.reverse()"
   ]
  },
  {
   "cell_type": "code",
   "execution_count": 46,
   "metadata": {},
   "outputs": [
    {
     "name": "stdout",
     "output_type": "stream",
     "text": [
      "['fast and furious:tokyo drift', '2 fast 2 furious', 'Fast and furious', 'black widow', 'troll2', '3idiots', 'kgf', 'ddlj', 'spiderman', 'avengers', 'humraaz', 'raaz', 'bahubali 2', 'the dark knight', 'piku', 'chhapak']\n"
     ]
    }
   ],
   "source": [
    "print(all_movies)"
   ]
  },
  {
   "cell_type": "code",
   "execution_count": 47,
   "metadata": {},
   "outputs": [
    {
     "data": {
      "text/plain": [
       "['chhapak',\n",
       " 'piku',\n",
       " 'the dark knight',\n",
       " 'bahubali 2',\n",
       " 'raaz',\n",
       " 'humraaz',\n",
       " 'avengers',\n",
       " 'spiderman',\n",
       " 'ddlj',\n",
       " 'kgf',\n",
       " '3idiots',\n",
       " 'troll2',\n",
       " 'black widow',\n",
       " 'Fast and furious',\n",
       " '2 fast 2 furious',\n",
       " 'fast and furious:tokyo drift']"
      ]
     },
     "execution_count": 47,
     "metadata": {},
     "output_type": "execute_result"
    }
   ],
   "source": [
    "#to reverse list(2)  #isse sirf output reverse hota h, list affect ni hota\n",
    "all_movies[::-1]"
   ]
  },
  {
   "cell_type": "code",
   "execution_count": 48,
   "metadata": {},
   "outputs": [
    {
     "name": "stdout",
     "output_type": "stream",
     "text": [
      "['2 fast 2 furious', '3idiots', 'Fast and furious', 'avengers', 'bahubali 2', 'black widow', 'chhapak', 'ddlj', 'fast and furious:tokyo drift', 'humraaz', 'kgf', 'piku', 'raaz', 'spiderman', 'the dark knight', 'troll2']\n"
     ]
    }
   ],
   "source": [
    "all_movies.sort()  #sorting\n",
    "print(all_movies)"
   ]
  },
  {
   "cell_type": "code",
   "execution_count": 49,
   "metadata": {},
   "outputs": [
    {
     "name": "stdout",
     "output_type": "stream",
     "text": [
      "['troll2', 'the dark knight', 'spiderman', 'raaz', 'piku', 'kgf', 'humraaz', 'fast and furious:tokyo drift', 'ddlj', 'chhapak', 'black widow', 'bahubali 2', 'avengers', 'Fast and furious', '3idiots', '2 fast 2 furious']\n"
     ]
    }
   ],
   "source": [
    "#reverse sorting\n",
    "all_movies.sort(reverse=True)\n",
    "print(all_movies)"
   ]
  },
  {
   "cell_type": "code",
   "execution_count": 50,
   "metadata": {},
   "outputs": [],
   "source": [
    "import random as rnd #importing random library"
   ]
  },
  {
   "cell_type": "code",
   "execution_count": 54,
   "metadata": {},
   "outputs": [
    {
     "name": "stdout",
     "output_type": "stream",
     "text": [
      "['spiderman', 'fast and furious:tokyo drift', '3idiots', 'avengers', 'kgf', 'bahubali 2', 'black widow', 'chhapak', 'ddlj', 'the dark knight', 'piku', 'troll2', 'humraaz', 'Fast and furious', 'raaz', '2 fast 2 furious']\n"
     ]
    }
   ],
   "source": [
    "rnd.shuffle(all_movies)  #shuffle function is from random library\n",
    "print(all_movies)"
   ]
  },
  {
   "cell_type": "code",
   "execution_count": 57,
   "metadata": {},
   "outputs": [
    {
     "data": {
      "text/plain": [
       "'fast and furious:tokyo drift'"
      ]
     },
     "execution_count": 57,
     "metadata": {},
     "output_type": "execute_result"
    }
   ],
   "source": [
    "#to choose random item\n",
    "rnd.choice(all_movies)"
   ]
  },
  {
   "cell_type": "code",
   "execution_count": 62,
   "metadata": {},
   "outputs": [
    {
     "data": {
      "text/plain": [
       "['troll2', '2 fast 2 furious', 'Fast and furious']"
      ]
     },
     "execution_count": 62,
     "metadata": {},
     "output_type": "execute_result"
    }
   ],
   "source": [
    "#for 3 random items\n",
    "rnd.choices(all_movies, k=3)"
   ]
  },
  {
   "cell_type": "code",
   "execution_count": 63,
   "metadata": {},
   "outputs": [
    {
     "data": {
      "text/plain": [
       "['troll2', 'black widow', 'Fast and furious']"
      ]
     },
     "execution_count": 63,
     "metadata": {},
     "output_type": "execute_result"
    }
   ],
   "source": [
    "rnd.sample(all_movies, k=3)"
   ]
  },
  {
   "cell_type": "code",
   "execution_count": 65,
   "metadata": {},
   "outputs": [
    {
     "data": {
      "text/plain": [
       "8"
      ]
     },
     "execution_count": 65,
     "metadata": {},
     "output_type": "execute_result"
    }
   ],
   "source": [
    "all_movies.index('ddlj')   #to search index of item"
   ]
  },
  {
   "cell_type": "code",
   "execution_count": 66,
   "metadata": {},
   "outputs": [
    {
     "data": {
      "text/plain": [
       "'2 fast 2 furious'"
      ]
     },
     "execution_count": 66,
     "metadata": {},
     "output_type": "execute_result"
    }
   ],
   "source": [
    "all_movies.pop()  #removes last element"
   ]
  },
  {
   "cell_type": "code",
   "execution_count": 67,
   "metadata": {},
   "outputs": [
    {
     "data": {
      "text/plain": [
       "'avengers'"
      ]
     },
     "execution_count": 67,
     "metadata": {},
     "output_type": "execute_result"
    }
   ],
   "source": [
    "all_movies.pop(3)  #removes element at index 3"
   ]
  },
  {
   "cell_type": "code",
   "execution_count": 68,
   "metadata": {},
   "outputs": [],
   "source": [
    "#difference between pop and remove- remove me naam dete hn, pop me no."
   ]
  },
  {
   "cell_type": "code",
   "execution_count": 73,
   "metadata": {},
   "outputs": [
    {
     "name": "stdout",
     "output_type": "stream",
     "text": [
      "[100, 2, 200, 4, 5]\n",
      "[100, 2, 200, 4, 5]\n"
     ]
    },
    {
     "data": {
      "text/plain": [
       "True"
      ]
     },
     "execution_count": 73,
     "metadata": {},
     "output_type": "execute_result"
    }
   ],
   "source": [
    "x=[1,2,3,4,5]\n",
    "y=x        #x and y are at same memory location\n",
    "y[0]=100\n",
    "x[2]=200\n",
    "print(x)\n",
    "print(y)\n",
    "x is y  #data structure is not copied, only reference is copied"
   ]
  },
  {
   "cell_type": "code",
   "execution_count": 75,
   "metadata": {},
   "outputs": [
    {
     "name": "stdout",
     "output_type": "stream",
     "text": [
      "[100, 2, 200, 4]\n",
      "[100, 2, 200, 4]\n",
      "[100, 2, 200, 4, 5, 10]\n"
     ]
    },
    {
     "data": {
      "text/plain": [
       "False"
      ]
     },
     "execution_count": 75,
     "metadata": {},
     "output_type": "execute_result"
    }
   ],
   "source": [
    "z=x.copy() #x ki copy memory me dusri jagah hai\n",
    "z.append(10)\n",
    "x.remove(5)\n",
    "print(x)\n",
    "print(y)\n",
    "print(z)\n",
    "x is z"
   ]
  },
  {
   "cell_type": "code",
   "execution_count": null,
   "metadata": {},
   "outputs": [],
   "source": []
  }
 ],
 "metadata": {
  "kernelspec": {
   "display_name": "base",
   "language": "python",
   "name": "python3"
  },
  "language_info": {
   "codemirror_mode": {
    "name": "ipython",
    "version": 3
   },
   "file_extension": ".py",
   "mimetype": "text/x-python",
   "name": "python",
   "nbconvert_exporter": "python",
   "pygments_lexer": "ipython3",
   "version": "3.10.8"
  },
  "orig_nbformat": 4,
  "vscode": {
   "interpreter": {
    "hash": "52236d22129a75ab835724e428b1ab135b312e0a611d325bdda6363d517cf0f1"
   }
  }
 },
 "nbformat": 4,
 "nbformat_minor": 2
}
